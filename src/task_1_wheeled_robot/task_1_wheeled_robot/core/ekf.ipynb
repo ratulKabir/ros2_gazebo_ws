{
  "nbformat": 4,
  "nbformat_minor": 0,
  "metadata": {
    "colab": {
      "provenance": []
    },
    "kernelspec": {
      "name": "python3",
      "display_name": "Python 3"
    },
    "language_info": {
      "name": "python"
    }
  },
  "cells": [
    {
      "cell_type": "markdown",
      "source": [
        "# Extended Kalman Filter (EKF) for a Differential Drive Robot\n",
        "\n",
        "This notebook implements and explains an **Extended Kalman Filter (EKF)** for a simple robot whose state is:\n",
        "\n",
        "\n",
        "\\begin{bmatrix}\n",
        "x \\\\\n",
        "y \\\\\n",
        "\\text{yaw}\n",
        "\\end{bmatrix}\n",
        "\n",
        "\n",
        "We’ll go step-by-step through:\n",
        "1. The **motion model (prediction)**  \n",
        "2. The **measurement update**  \n",
        "3. A simple **simulation example**\n"
      ],
      "metadata": {
        "id": "3ht5KBPL-31n"
      }
    },
    {
      "cell_type": "code",
      "execution_count": 1,
      "metadata": {
        "id": "j59AUVPAYKwO"
      },
      "outputs": [],
      "source": [
        "import numpy as np\n",
        "import math\n",
        "import matplotlib.pyplot as plt\n"
      ]
    },
    {
      "cell_type": "markdown",
      "source": [
        "## The EKF class\n",
        "\n",
        "The EKF maintains two main things:\n",
        "- **State estimate**: our belief about where the robot is (`x`)\n",
        "- **Covariance matrix (P)**: uncertainty in that belief\n",
        "\n",
        "We define:\n",
        "- `Q`: process noise covariance — uncertainty in the motion model  \n",
        "- `R`: measurement noise covariance — uncertainty in the sensors\n"
      ],
      "metadata": {
        "id": "oLlC_Z64_CnP"
      }
    },
    {
      "cell_type": "code",
      "source": [
        "class EKF:\n",
        "    def __init__(self, dt=0.1,\n",
        "                 Q=np.diag([0.02, 0.02, np.deg2rad(2.0)])**2,\n",
        "                 R=np.diag([0.5, 0.5, np.deg2rad(5.0)])**2):\n",
        "        \"\"\"Extended Kalman Filter for a differential-drive robot.\"\"\"\n",
        "        self.dt = dt\n",
        "        self.Q = Q\n",
        "        self.R = R\n",
        "        self.x = np.zeros(3)  # state: [x, y, yaw]\n",
        "        self.P = np.diag([1.0, 1.0, np.deg2rad(10)**2])  # initial uncertainty\n",
        "\n",
        "    # -------------------------------------------------------------\n",
        "    def predict(self, v, w):\n",
        "        \"\"\"Predict next state using motion model and control inputs.\"\"\"\n",
        "        theta = self.x[2]\n",
        "        dt = self.dt\n",
        "\n",
        "        # Motion model\n",
        "        self.x[0] += v * math.cos(theta) * dt\n",
        "        self.x[1] += v * math.sin(theta) * dt\n",
        "        self.x[2] += w * dt\n",
        "        self.x[2] = self._wrap_angle(self.x[2])\n",
        "\n",
        "        # Jacobian wrt state\n",
        "        F = np.array([\n",
        "            [1, 0, -v * math.sin(theta) * dt],\n",
        "            [0, 1,  v * math.cos(theta) * dt],\n",
        "            [0, 0,  1]\n",
        "        ])\n",
        "\n",
        "        # Covariance prediction\n",
        "        self.P = F @ self.P @ F.T + self.Q\n",
        "        self.P = 0.5 * (self.P + self.P.T)  # enforce symmetry\n",
        "\n",
        "        return self.x.copy(), self.P.copy()\n",
        "\n",
        "    # -------------------------------------------------------------\n",
        "    def update(self, z):\n",
        "        \"\"\"Update step given a noisy measurement z = [x, y, yaw].\"\"\"\n",
        "        H = np.eye(3)\n",
        "        y = z - self.x\n",
        "        y[2] = self._wrap_angle(y[2])\n",
        "\n",
        "        S = H @ self.P @ H.T + self.R\n",
        "        K = self.P @ H.T @ np.linalg.inv(S)\n",
        "\n",
        "        self.x = self.x + K @ y\n",
        "        self.x[2] = self._wrap_angle(self.x[2])\n",
        "\n",
        "        self.P = (np.eye(3) - K @ H) @ self.P\n",
        "        self.P = 0.5 * (self.P + self.P.T)\n",
        "\n",
        "        return self.x.copy(), self.P.copy()\n",
        "\n",
        "    # -------------------------------------------------------------\n",
        "    @staticmethod\n",
        "    def _wrap_angle(a):\n",
        "        return (a + np.pi) % (2 * np.pi) - np.pi\n"
      ],
      "metadata": {
        "id": "H7g6YcLs-0Qp"
      },
      "execution_count": 2,
      "outputs": []
    },
    {
      "cell_type": "markdown",
      "source": [
        "## EKF equations overview\n",
        "\n",
        "### 1. Prediction step\n",
        "\n",
        "We use the robot’s motion model to predict its next state:\n",
        "\n",
        "$$\n",
        "\\begin{bmatrix}\n",
        "x' \\\\\n",
        "y' \\\\\n",
        "\\text{yaw}'\n",
        "\\end{bmatrix}\n",
        "=\n",
        "f\\!\\left(\n",
        "\\begin{bmatrix}\n",
        "x \\\\\n",
        "y \\\\\n",
        "\\text{yaw}\n",
        "\\end{bmatrix},\n",
        "u\n",
        "\\right)\n",
        "=\n",
        "\\begin{bmatrix}\n",
        "x + v \\cos(\\theta)\\, \\Delta t \\\\\n",
        "y + v \\sin(\\theta)\\, \\Delta t \\\\\n",
        "\\theta + \\omega\\, \\Delta t\n",
        "\\end{bmatrix}\n",
        "$$\n",
        "\n",
        "\n",
        "\n",
        "and update uncertainty:\n",
        "\n",
        "$$\n",
        "P' = F\\,P\\,F^\\top + Q\n",
        "$$\n",
        "\n",
        "\n",
        "Here,  \n",
        "- \\( F \\) is the **Jacobian of the motion model**  \n",
        "$$\n",
        "F =\n",
        "\\begin{bmatrix}\n",
        "1 & 0 & -v \\sin(\\theta)\\, \\Delta t \\\\\n",
        "0 & 1 & \\;\\;v \\cos(\\theta)\\, \\Delta t \\\\\n",
        "0 & 0 & 1\n",
        "\\end{bmatrix}\n",
        "$$\n",
        "\n",
        "\n",
        "- \\( Q \\) is **process noise** (uncertainty in motion)\n",
        "\n",
        "### 2. Update step\n",
        "We correct the prediction using a measurement \\( z \\):\n",
        "$$\n",
        "y = z - h(x')\n",
        "$$\n",
        "\n",
        "$$\n",
        "S = H\\,P'\\,H^\\top + R\n",
        "$$\n",
        "\n",
        "$$\n",
        "K = P'\\,H^\\top\\,S^{-1}\n",
        "$$\n",
        "\n",
        "$$\n",
        "x = x' + K\\,y\n",
        "$$\n",
        "\n",
        "$$\n",
        "P = (I - K\\,H)\\,P'\n",
        "$$\n",
        "\n",
        "Where:\n",
        "- \\( K \\) = Kalman gain — how much to trust measurement vs prediction  \n",
        "- \\( R \\) = measurement noise  \n",
        "- \\( H \\) = measurement Jacobian (here, identity because we measure directly \\$ (x,\\, y,\\, \\text{yaw}) $\n",
        "\n"
      ],
      "metadata": {
        "id": "PuUS6Osr_OrI"
      }
    },
    {
      "cell_type": "code",
      "source": [
        "ekf = EKF(dt=0.1)\n",
        "v_true = 1.0  # m/s\n",
        "w_true = 0.1  # rad/s\n",
        "\n",
        "xs, ys = [], []\n",
        "zs_x, zs_y = [], []\n",
        "\n",
        "for t in np.arange(0, 10, ekf.dt):\n",
        "    ekf.predict(v_true, w_true)\n",
        "    z = ekf.x + np.random.multivariate_normal(mean=[0, 0, 0], cov=ekf.R)\n",
        "    ekf.update(z)\n",
        "\n",
        "    xs.append(ekf.x.copy())\n",
        "    zs_x.append(z[0])\n",
        "    zs_y.append(z[1])\n",
        "\n",
        "xs = np.array(xs)\n"
      ],
      "metadata": {
        "id": "B4-NZah__N-w"
      },
      "execution_count": 3,
      "outputs": []
    },
    {
      "cell_type": "code",
      "source": [
        "plt.figure(figsize=(6, 6))\n",
        "plt.plot(xs[:, 0], xs[:, 1], 'b-', label=\"EKF Estimate\")\n",
        "plt.scatter(zs_x, zs_y, s=10, c='r', alpha=0.4, label=\"Measurements\")\n",
        "plt.xlabel(\"X [m]\")\n",
        "plt.ylabel(\"Y [m]\")\n",
        "plt.title(\"EKF Position Estimation\")\n",
        "plt.legend()\n",
        "plt.axis('equal')\n",
        "plt.grid(True)\n",
        "plt.show()"
      ],
      "metadata": {
        "colab": {
          "base_uri": "https://localhost:8080/",
          "height": 564
        },
        "id": "_fvG9z4G_lJg",
        "outputId": "0ebc4cd6-17d9-41d4-d29d-1638311b9fa4"
      },
      "execution_count": 4,
      "outputs": [
        {
          "output_type": "display_data",
          "data": {
            "text/plain": [
              "<Figure size 600x600 with 1 Axes>"
            ],
            "image/png": "[encoded data removed]"
          },
          "metadata": {}
        }
      ]
    },
    {
      "cell_type": "markdown",
      "source": [
        "## Interpretation of the results\n",
        "\n",
        "- **Red dots**: noisy measurements from sensors  \n",
        "- **Blue line**: EKF’s filtered estimate of the robot’s trajectory\n",
        "\n",
        "The EKF effectively **smooths out the noise** and gives a consistent estimate of the robot’s path over time.\n",
        "You can experiment by:\n",
        "- Increasing measurement noise `R`\n",
        "- Increasing process noise `Q`\n",
        "- Changing `v_true` and `w_true`\n"
      ],
      "metadata": {
        "id": "oSoyM27q_xPJ"
      }
    },
    {
      "cell_type": "markdown",
      "source": [],
      "metadata": {
        "id": "EWfTg2QX_iaY"
      }
    },
    {
      "cell_type": "code",
      "source": [],
      "metadata": {
        "id": "C1n9-0ys_hkv"
      },
      "execution_count": null,
      "outputs": []
    }
  ]
}